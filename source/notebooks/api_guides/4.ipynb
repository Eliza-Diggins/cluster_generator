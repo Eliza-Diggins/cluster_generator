{
 "cells": [
  {
   "cell_type": "markdown",
   "id": "5ce38560e2cedfdc",
   "metadata": {
    "collapsed": false
   },
   "source": [
    "# Using Builtin Collections\n",
    "\n",
    "One of the most useful things that ``cluster_generator`` provides is our ``collections`` module, which allows the user to access a variety of pre-existing cluster models from a variety of\n",
    "popular pieces of literature. Furthermore, the user can create and save their own collections to have easy access to their preferred clusters directly from the commandline. In this guide,\n",
    "we'll walk through all of the things you need to know about the collections module.\n",
    "\n",
    "---\n",
    "\n",
    "## Contents\n",
    "\n",
    "- [What is a Collection?](#What-Is-a-Collection)\n",
    "\n",
    "---\n",
    "\n",
    "## What is a Collection\n",
    "\n",
    "``ClusterCollection`` objects are the core class of the builtin clusters implementation. Each ``ClusterCollection`` takes only one argument to initialize: ``path``, which is the path to the correct ``.yaml`` file\n",
    "holding the underlying data. If you're interested in the development side of this (say if you want to build your own), then see the Collections page from the main menu. In some cases, additional classes are available which inherit from\n",
    "``ClusterCollection``. These objects represent builtin datasets that can be accessed. Let's see just one of them right away."
   ]
  },
  {
   "cell_type": "code",
   "execution_count": 1,
   "id": "83cff094590087d",
   "metadata": {
    "collapsed": false,
    "ExecuteTime": {
     "end_time": "2023-08-30T16:34:14.171507500Z",
     "start_time": "2023-08-30T16:34:04.599749600Z"
    }
   },
   "outputs": [
    {
     "name": "stdout",
     "output_type": "stream",
     "text": [
      "✔ cluster_generator : [INFO     ] Wed Aug 30 10:34:13 2023 Loading collect (...)⠙ cluster_generator : [INFO     ] Wed Aug 30 10:34:13 2023 Loading collect (...) cluster_generator : [INFO     ] Wed Aug 30 10:34:14 2023 Loaded collection Vikhlinin et. al. 2006\n",
      "\r"
     ]
    }
   ],
   "source": [
    "import cluster_generator as cg\n",
    "from cluster_generator.collection import Vikhlinin06\n",
    "\n",
    "# -- Initializing the collection -- #\n",
    "v = Vikhlinin06.load()\n"
   ]
  },
  {
   "cell_type": "markdown",
   "id": "87cbbec617607fef",
   "metadata": {
    "collapsed": false
   },
   "source": [
    "Once loaded, you can start looking at all of the various attributes these objects get. In the next code block, we show off a few of the most important: "
   ]
  },
  {
   "cell_type": "code",
   "execution_count": 2,
   "id": "962f81bdaa8f813f",
   "metadata": {
    "collapsed": false,
    "ExecuteTime": {
     "end_time": "2023-08-30T16:34:14.586835800Z",
     "start_time": "2023-08-30T16:34:14.120282100Z"
    }
   },
   "outputs": [
    {
     "name": "stdout",
     "output_type": "stream",
     "text": [
      "ClusterCollection; name = Vikhlinin et. al. 2006, length = 13.\n",
      "Available clusters: ['A133         ', 'A262         ', 'A383         ', 'A478         ', 'A907         ', 'A1413        ', 'A1795        ', 'A1991        ', 'A2029        ', 'A2390        ', 'RX J1159+5531', 'MKW 4        ', 'USGC S152    ']\n",
      "Profiles: {'density': <function vikhlinin_density_profile at 0x7fc0a305cd30>, 'temperature': <function vikhlinin_temperature_profile at 0x7fc0a305cdc0>}\n",
      "The parameters for A262          are {'Name         ': 'A262         ', 'r_det': 450, 'r_min': 10, 'z     ': 0.0162, 'rho_0  ': 91429, 'r_c  ': 70.7, 'r_s   ': 365.6, 'alpha': 1.712, 'beta ': 0.345, 'epsilon': 1.76, 'gamma': 3, 'T0   ': 2.42, 'rt  ': 350, 'a    ': -0.02, 'b   ': 5.0, 'c   ': 1.1, 'Tmin  ': 1.5488, 'r_cool': 19, 'a_cool': 5.25}\n",
      "\r"
     ]
    }
   ],
   "source": [
    "# -- print the object -- #\n",
    "print(v)\n",
    "\n",
    "# -- look at the available items -- #\n",
    "print(f\"Available clusters: {v.names}\")\n",
    "\n",
    "# -- what are the profiles? -- #\n",
    "print(f\"Profiles: {v.profiles}\")\n",
    "\n",
    "# -- individual fits -- #\n",
    "print(f\"The parameters for {v.names[1]} are {v.objs[v.names[1]]}\")"
   ]
  },
  {
   "cell_type": "markdown",
   "source": [
    "So all of the data we might want is right there, but cluster collections can do even more. Let's look at the ``load_model`` method:\n",
    "\n",
    "```python\n",
    "def load_model(self,model_name,r_min,r_max,num_points=1000,gravity=\"Newtonian\",**kwargs):\n",
    "    \"\"\"\n",
    "    Loads the model with name ``model_name``.\n",
    "\n",
    "    Parameters\n",
    "    ----------\n",
    "    model_name: str\n",
    "        The name of the model to load.\n",
    "    r_min: float\n",
    "        The minimum radius at which to load.\n",
    "    r_max: float\n",
    "        The maximum radius at which to load.\n",
    "    num_points: int\n",
    "        The number of constituent points to use.\n",
    "    gravity: str\n",
    "        The gravity theory to use.\n",
    "    **kwargs\n",
    "        additional parameters to pass through the loading system.\n",
    "\n",
    "    Returns\n",
    "    -------\n",
    "    ClusterModel\n",
    "        The finished cluster model.\n",
    "    \"\"\"\n",
    "```\n",
    "Now, for **some datasets**, there are slimmed down ``load_model`` methods which fill in some of these arguments. For example, with the ``Vikhlinin06`` class, the same function looks like this\n",
    "\n",
    "```python\n",
    "def load_model(self,model_name,r_min=None,r_max=None,num_points=1000,gravity=\"Newtonian\",**kwargs):\n",
    "    \"\"\"\n",
    "    Loads the model with name ``model_name``.\n",
    "\n",
    "    Parameters\n",
    "    ----------\n",
    "    model_name: str\n",
    "        The name of the model to load.\n",
    "    r_min: float, optional. \n",
    "        The minimum radius at which to load. Defaults to ``rmin`` field in dataset.\n",
    "    r_max: float, optional.\n",
    "        The maximum radius at which to load. Defaults to ``r_det`` field.\n",
    "    num_points: int\n",
    "        The number of constituent points to use.\n",
    "    gravity: str\n",
    "        The gravity theory to use.\n",
    "    **kwargs\n",
    "        additional parameters to pass through the loading system.\n",
    "\n",
    "    Returns\n",
    "    -------\n",
    "    ClusterModel\n",
    "        The finished cluster model.\n",
    "    \"\"\"\n",
    "```\n",
    "so we can load these a bit easier:"
   ],
   "metadata": {
    "collapsed": false
   },
   "id": "f82150abf0900b62"
  },
  {
   "cell_type": "code",
   "execution_count": 3,
   "outputs": [
    {
     "ename": "KeyError",
     "evalue": "'A383'",
     "output_type": "error",
     "traceback": [
      "\u001B[0;31m---------------------------------------------------------------------------\u001B[0m",
      "\u001B[0;31mKeyError\u001B[0m                                  Traceback (most recent call last)",
      "Cell \u001B[0;32mIn[3], line 1\u001B[0m\n\u001B[0;32m----> 1\u001B[0m abell_383 \u001B[38;5;241m=\u001B[39m \u001B[43mv\u001B[49m\u001B[38;5;241;43m.\u001B[39;49m\u001B[43mload_model\u001B[49m\u001B[43m(\u001B[49m\u001B[38;5;124;43m\"\u001B[39;49m\u001B[38;5;124;43mA383\u001B[39;49m\u001B[38;5;124;43m\"\u001B[39;49m\u001B[43m)\u001B[49m\n\u001B[1;32m      3\u001B[0m \u001B[38;5;28;01mimport\u001B[39;00m \u001B[38;5;21;01mmatplotlib\u001B[39;00m\u001B[38;5;21;01m.\u001B[39;00m\u001B[38;5;21;01mpyplot\u001B[39;00m \u001B[38;5;28;01mas\u001B[39;00m \u001B[38;5;21;01mplt\u001B[39;00m\n\u001B[1;32m      5\u001B[0m abell_383\u001B[38;5;241m.\u001B[39mplot(\u001B[38;5;124m\"\u001B[39m\u001B[38;5;124mtemperature\u001B[39m\u001B[38;5;124m\"\u001B[39m)\n",
      "File \u001B[0;32m~/cluster_generator/cluster_generator/collection.py:283\u001B[0m, in \u001B[0;36mVikhlinin06.load_model\u001B[0;34m(self, model_name, r_min, r_max, num_points, gravity, **kwargs)\u001B[0m\n\u001B[1;32m    280\u001B[0m \u001B[38;5;66;03m#  Sanity Check\u001B[39;00m\n\u001B[1;32m    281\u001B[0m \u001B[38;5;66;03m# ------------------------------------------------------------------------------------------------------------ #\u001B[39;00m\n\u001B[1;32m    282\u001B[0m \u001B[38;5;28;01mif\u001B[39;00m \u001B[38;5;129;01mnot\u001B[39;00m r_min:\n\u001B[0;32m--> 283\u001B[0m     r_min \u001B[38;5;241m=\u001B[39m \u001B[38;5;28;43mself\u001B[39;49m\u001B[38;5;241;43m.\u001B[39;49m\u001B[43mobjs\u001B[49m\u001B[43m[\u001B[49m\u001B[43mmodel_name\u001B[49m\u001B[43m]\u001B[49m[\u001B[38;5;124m\"\u001B[39m\u001B[38;5;124mr_min\u001B[39m\u001B[38;5;124m\"\u001B[39m]\n\u001B[1;32m    285\u001B[0m \u001B[38;5;28;01mif\u001B[39;00m \u001B[38;5;129;01mnot\u001B[39;00m r_max:\n\u001B[1;32m    286\u001B[0m     r_max \u001B[38;5;241m=\u001B[39m \u001B[38;5;28mself\u001B[39m\u001B[38;5;241m.\u001B[39mobjs[model_name][\u001B[38;5;124m\"\u001B[39m\u001B[38;5;124mr_det\u001B[39m\u001B[38;5;124m\"\u001B[39m]\n",
      "\u001B[0;31mKeyError\u001B[0m: 'A383'"
     ]
    },
    {
     "name": "stdout",
     "output_type": "stream",
     "text": [
      "\r"
     ]
    }
   ],
   "source": [
    "abell_383 = v.load_model(\"A383\")\n",
    "\n",
    "import matplotlib.pyplot as plt\n",
    "\n",
    "abell_383.plot(\"temperature\")\n",
    "plt.yscale(\"linear\")\n",
    "plt.ylim([0,8])\n",
    "plt.xlim([10,3000])\n",
    "plt.show()"
   ],
   "metadata": {
    "collapsed": false,
    "ExecuteTime": {
     "end_time": "2023-08-30T16:34:14.866386600Z",
     "start_time": "2023-08-30T16:34:14.189027500Z"
    }
   },
   "id": "74fcdd884b80f428"
  },
  {
   "cell_type": "markdown",
   "source": [
    "One can easily verify that this temperature profile matches that of the original paper! We can also do more complex things. For example:\n"
   ],
   "metadata": {
    "collapsed": false
   },
   "id": "5811a46b16965035"
  },
  {
   "cell_type": "code",
   "execution_count": null,
   "outputs": [],
   "source": [
    "fig,ax = plt.subplots(1,1)\n",
    "\n",
    "for n in v.names:\n",
    "    m = v.load_model(n)\n",
    "    m.plot(\"temperature\",fig=fig,ax=ax)\n",
    "\n",
    "ax.set_ylim([0,15])\n",
    "ax.set_xlim([10,3000])"
   ],
   "metadata": {
    "collapsed": false,
    "ExecuteTime": {
     "start_time": "2023-08-30T16:34:14.688388Z"
    }
   },
   "id": "b24d11f650cd802c"
  },
  {
   "cell_type": "markdown",
   "source": [
    "---\n",
    "\n",
    "## IO Management\n",
    "\n",
    "---\n",
    "\n",
    "We've seen what more-or-less constitutes the entire idea behind the ``collection`` module, but there are a few other useful things to mention regarding IO operations with these objects. First off, you can access your collections directory by using"
   ],
   "metadata": {
    "collapsed": false
   },
   "id": "41bd95a6e48efbcc"
  },
  {
   "cell_type": "code",
   "execution_count": null,
   "id": "ae89d66f5bf9d44e",
   "metadata": {
    "collapsed": false,
    "ExecuteTime": {
     "start_time": "2023-08-30T16:34:14.690386Z"
    }
   },
   "outputs": [],
   "source": [
    "print(cg.collection.collections_directory)"
   ]
  },
  {
   "cell_type": "markdown",
   "source": [
    "You'll notice that this path is, by default, configured to be within the package's installation directory. This may be sub-optimal if you as the user intend on using a large number of collections and are worried about losing data if the package is updated or don't want to create too large a directory tree in the installation directory. You can change the search directory directly by altering ``collections.collections_directory``. You can also get a list of all of the available collections:\n",
    " "
   ],
   "metadata": {
    "collapsed": false
   },
   "id": "d230aef2a609dc9d"
  },
  {
   "cell_type": "code",
   "execution_count": null,
   "outputs": [],
   "source": [
    "for k in cg.collection.get_collections():\n",
    "    print(k[0])\n",
    "    print(\"------------------------------------------------------\")\n",
    "    print(k[1])"
   ],
   "metadata": {
    "collapsed": false,
    "ExecuteTime": {
     "start_time": "2023-08-30T16:34:14.696385400Z"
    }
   },
   "id": "18b6761b453ee762"
  }
 ],
 "metadata": {
  "kernelspec": {
   "display_name": "Python 3 (ipykernel)",
   "language": "python",
   "name": "python3"
  },
  "language_info": {
   "codemirror_mode": {
    "name": "ipython",
    "version": 3
   },
   "file_extension": ".py",
   "mimetype": "text/x-python",
   "name": "python",
   "nbconvert_exporter": "python",
   "pygments_lexer": "ipython3",
   "version": "3.8.10"
  }
 },
 "nbformat": 4,
 "nbformat_minor": 5
}
