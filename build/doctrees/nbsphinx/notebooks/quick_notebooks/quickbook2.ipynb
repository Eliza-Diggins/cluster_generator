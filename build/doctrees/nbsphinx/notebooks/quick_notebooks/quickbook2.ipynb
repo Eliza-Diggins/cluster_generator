{
 "cells": [
  {
   "cell_type": "markdown",
   "id": "67592bcd14443510",
   "metadata": {
    "collapsed": false
   },
   "source": [
    "# Quickstart Guide: Your First Simulation\n",
    "\n",
    "<div class=\"alert alert-block alert-warning\">\n",
    "<p><b> &#10060; Uh Oh:</b></p> \n",
    "This guide is not yet written! We are always trying to work on our documentation, so give us a little while and we'll get this guide done. If you feel up to writing it yourself, please contact us!\n",
    "</div>"
   ]
  }
 ],
 "metadata": {
  "kernelspec": {
   "display_name": "Python 3",
   "language": "python",
   "name": "python3"
  },
  "language_info": {
   "codemirror_mode": {
    "name": "ipython",
    "version": 2
   },
   "file_extension": ".py",
   "mimetype": "text/x-python",
   "name": "python",
   "nbconvert_exporter": "python",
   "pygments_lexer": "ipython2",
   "version": "2.7.6"
  }
 },
 "nbformat": 4,
 "nbformat_minor": 5
}
