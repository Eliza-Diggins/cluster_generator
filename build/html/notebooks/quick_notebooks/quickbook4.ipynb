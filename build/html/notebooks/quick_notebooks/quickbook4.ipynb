{
 "cells": [
  {
   "cell_type": "markdown",
   "id": "1c2121988898ed6b",
   "metadata": {
    "collapsed": false
   },
   "source": [
    "# Getting Funky: MONDian Gravity\n",
    "\n",
    "One of the awesome things about <tt>cluster_generator</tt> is that you can use non-Newtonian gravities. We've implemented several MOND based theories for you to use and explore, but other can be constructed with relative ease. In this guide, we're going to walk you through all of the things you need to know about using non-Newtonian dynamics.\n",
    "\n",
    "---\n",
    "\n",
    "## Contents\n",
    "\n",
    "- [Important Notes for Users](#Important-Note)\n",
    "- [Getting Started With Gravity](#Getting-Started-With-Gravity)\n",
    "\n",
    "---\n",
    "\n",
    "## Important Note\n",
    "\n",
    "<tt>cluster_generator</tt> is written in a modular style to facilitate further development both by the development team or by the user. We've made it really easy to implement new gravity theories; **however**, it should be noted that very few simulation softwares actually support non-Newtonian gravity options. In this guide, we will be setting up initial conditions for use in RAMSES because their is a patch, called [RaYMOND](https://github.com/graemecan/raymond_qumond), which implements a MOND solver in RAMSES. For other, more arcane gravity theories, the user may need to write a simulation package for themselves (hard work!) or utilize the other available workflows that are available from <tt>cluster_generator</tt> (simulated X-ray observations, analytical work, etc.) to probe the science problem of interest.\n",
    "\n",
    "## Getting Started With Gravity\n",
    "\n",
    "Now that we've talked about the limitations, we can start getting into the fun stuff. All of the gravitational theories available in the <tt>cluster_generator</tt> library are found in the [gravity](../../_as_gen/gravity.html) module. The <tt>gravity</tt> module contains classes representing each of the available gravitational theories. For each of the gravitational theories, two methods are defined, one which computes the potential, and another which computes the dynamical mass from hydrostatic equilibrium.\n",
    "\n",
    "For the most part, you really shouldn't need to interact directly with any of these modules. Instead, you can specify your preferred gravitational theory using the ``gravity=`` keyword when generating ``ClusterModel``'s. Let's see this in action! We'll start by just building a reference model in Newtonian gravity.\n",
    "<br>\n",
    "<br>\n"
   ]
  },
  {
   "cell_type": "code",
   "execution_count": 1,
   "id": "e958c5962ab6db58",
   "metadata": {
    "ExecuteTime": {
     "end_time": "2023-09-20T13:49:45.417257600Z",
     "start_time": "2023-09-20T13:49:25.363117100Z"
    },
    "collapsed": false
   },
   "outputs": [
    {
     "name": "stderr",
     "output_type": "stream",
     "text": [
      "cluster_generator : [INFO     ] 2023-09-20 07:49:34,398 Computing the profiles from density and total density. Gravity=Newtonian\n",
      "cluster_generator : [INFO     ] 2023-09-20 07:49:34,403 Integrating total mass profile.\n",
      "cluster_generator : [INFO     ] 2023-09-20 07:49:34,703 ClusterModel [ClusterModel object; gravity=Newtonian] has no virialization method. Setting to default = eddington\n",
      "cluster_generator : [INFO     ] 2023-09-20 07:49:34,704 Computing gravitational potential of ClusterModel object; gravity=Newtonian. gravity=Newtonian.\n",
      "cluster_generator : [INFO     ] 2023-09-20 07:49:35,843 Integrating pressure profile.\n"
     ]
    },
    {
     "ename": "TypeError",
     "evalue": "_from_scratch() got multiple values for keyword argument 'stellar_density'",
     "output_type": "error",
     "traceback": [
      "\u001b[0;31m---------------------------------------------------------------------------\u001b[0m",
      "\u001b[0;31mTypeError\u001b[0m                                 Traceback (most recent call last)",
      "Cell \u001b[0;32mIn[1], line 38\u001b[0m\n\u001b[1;32m     35\u001b[0m rhog_1 \u001b[38;5;241m=\u001b[39m cg\u001b[38;5;241m.\u001b[39mvikhlinin_density_profile(\u001b[38;5;241m1.0\u001b[39m, \u001b[38;5;241m0.5\u001b[39m \u001b[38;5;241m*\u001b[39m r2500_1, \u001b[38;5;241m1.1\u001b[39m \u001b[38;5;241m*\u001b[39m r200_1, \u001b[38;5;241m0.1\u001b[39m, \u001b[38;5;241m0.67\u001b[39m, \u001b[38;5;241m3\u001b[39m)\n\u001b[1;32m     36\u001b[0m rhog_1 \u001b[38;5;241m=\u001b[39m cg\u001b[38;5;241m.\u001b[39mrescale_profile_by_mass(rhog_1, f_g \u001b[38;5;241m*\u001b[39m M500_1, r500_1)\n\u001b[0;32m---> 38\u001b[0m model_Newtonian \u001b[38;5;241m=\u001b[39m \u001b[43mcg\u001b[49m\u001b[38;5;241;43m.\u001b[39;49m\u001b[43mHydrostaticEquilibrium\u001b[49m\u001b[38;5;241;43m.\u001b[39;49m\u001b[43mfrom_dens_and_tden\u001b[49m\u001b[43m(\u001b[49m\u001b[38;5;241;43m0.1\u001b[39;49m\u001b[43m,\u001b[49m\u001b[43m \u001b[49m\u001b[38;5;241;43m15000.0\u001b[39;49m\u001b[43m,\u001b[49m\u001b[43m \u001b[49m\u001b[43mrhog_1\u001b[49m\u001b[43m,\u001b[49m\u001b[43m \u001b[49m\u001b[43mrhot_1\u001b[49m\u001b[43m)\u001b[49m\n",
      "File \u001b[0;32m~/cluster_generator/cluster_generator/model.py:612\u001b[0m, in \u001b[0;36mClusterModel.from_dens_and_tden\u001b[0;34m(cls, rmin, rmax, density, total_density, stellar_density, num_points, gravity, **kwargs)\u001b[0m\n\u001b[1;32m    609\u001b[0m fields[\u001b[38;5;124m\"\u001b[39m\u001b[38;5;124mtemperature\u001b[39m\u001b[38;5;124m\"\u001b[39m] \u001b[38;5;241m=\u001b[39m fields[\u001b[38;5;124m\"\u001b[39m\u001b[38;5;124mpressure\u001b[39m\u001b[38;5;124m\"\u001b[39m] \u001b[38;5;241m*\u001b[39m mu \u001b[38;5;241m*\u001b[39m mp \u001b[38;5;241m/\u001b[39m fields[\u001b[38;5;124m\"\u001b[39m\u001b[38;5;124mdensity\u001b[39m\u001b[38;5;124m\"\u001b[39m]\n\u001b[1;32m    610\u001b[0m fields[\u001b[38;5;124m\"\u001b[39m\u001b[38;5;124mtemperature\u001b[39m\u001b[38;5;124m\"\u001b[39m]\u001b[38;5;241m.\u001b[39mconvert_to_units(\u001b[38;5;124m\"\u001b[39m\u001b[38;5;124mkeV\u001b[39m\u001b[38;5;124m\"\u001b[39m)\n\u001b[0;32m--> 612\u001b[0m \u001b[38;5;28;01mreturn\u001b[39;00m \u001b[38;5;28mcls\u001b[39m\u001b[38;5;241m.\u001b[39m_from_scratch(fields, stellar_density\u001b[38;5;241m=\u001b[39mstellar_density, gravity\u001b[38;5;241m=\u001b[39mgravity, \u001b[38;5;241m*\u001b[39m\u001b[38;5;241m*\u001b[39mobj\u001b[38;5;241m.\u001b[39mattrs,\n\u001b[1;32m    613\u001b[0m                          profiles\u001b[38;5;241m=\u001b[39m{\u001b[38;5;124m\"\u001b[39m\u001b[38;5;124mdensity\u001b[39m\u001b[38;5;124m\"\u001b[39m        : density,\n\u001b[1;32m    614\u001b[0m                                    \u001b[38;5;124m\"\u001b[39m\u001b[38;5;124mtotal_density\u001b[39m\u001b[38;5;124m\"\u001b[39m  : total_density,\n\u001b[1;32m    615\u001b[0m                                    \u001b[38;5;124m\"\u001b[39m\u001b[38;5;124mstellar_density\u001b[39m\u001b[38;5;124m\"\u001b[39m: stellar_density,\n\u001b[1;32m    616\u001b[0m                                    })\n",
      "\u001b[0;31mTypeError\u001b[0m: _from_scratch() got multiple values for keyword argument 'stellar_density'"
     ]
    }
   ],
   "source": [
    "# -- Imports -- #\n",
    "import cluster_generator as cg\n",
    "from cluster_generator.utils import cgparams\n",
    "\n",
    "cgparams[\"system\"][\"text\"][\"spinners\"] = False # --> Turn off spinners so they look okay in documentation.\n",
    "\n",
    "# Redshift for cluster\n",
    "z = 0.546\n",
    "\n",
    "\n",
    "# masses for primary cluster\n",
    "M500 = 1.1e15\n",
    "M200 = M500 * 1.23\n",
    "\n",
    "# This helps us find r200 for the two clusters\n",
    "r200_1 = cg.find_overdensity_radius(M200, 200.0, z=z)\n",
    "\n",
    "# Compute parameters for truncated NFW profile\n",
    "r_s1 = r200_1 / 2\n",
    "rho_s1 = cg.nfw_scale_density(2, z=z)\n",
    "r_t1 = r200_1 * 2.0\n",
    "\n",
    "\n",
    "# This creates truncated NFW mass profile objects\n",
    "# these are like functions, you can call them, e.g. Mt_1(r)\n",
    "Mt_1 = cg.tnfw_mass_profile(rho_s1, r_s1, r_t1)\n",
    "\n",
    "# This finds true radii and masses based on the profile\n",
    "r500_1, M500_1 = cg.find_radius_mass(Mt_1, z=z, delta=500.0)\n",
    "r2500_1, M2500_1 = cg.find_radius_mass(Mt_1, z=z, delta=2500.0)\n",
    "\n",
    "rhot_1 = cg.tnfw_density_profile(rho_s1, r_s1, r_t1)\n",
    "\n",
    "f_g = 0.115\n",
    "rhog_1 = cg.vikhlinin_density_profile(1.0, 0.5 * r2500_1, 1.1 * r200_1, 0.1, 0.67, 3)\n",
    "rhog_1 = cg.rescale_profile_by_mass(rhog_1, f_g * M500_1, r500_1)\n",
    "\n",
    "model_Newtonian = cg.HydrostaticEquilibrium.from_dens_and_tden(0.1, 15000.0, rhog_1, rhot_1)\n",
    "\n"
   ]
  },
  {
   "cell_type": "markdown",
   "id": "eb1307436e619a48",
   "metadata": {
    "collapsed": false
   },
   "source": [
    "Now, we can do the exact same thing (with a little less code) to make our MOND cluster. The only thing that get's changed is the ``gravity=\"QUMOND\"`` keyword argument when we generate the model:"
   ]
  },
  {
   "cell_type": "code",
   "execution_count": null,
   "id": "57848a371313dda5",
   "metadata": {
    "ExecuteTime": {
     "start_time": "2023-09-20T13:49:45.420889800Z"
    },
    "collapsed": false
   },
   "outputs": [],
   "source": [
    "model_mond = cg.HydrostaticEquilibrium.from_dens_and_tden(0.1,15000.0,rhog_1,rhot_1,gravity=\"QUMOND\")"
   ]
  },
  {
   "cell_type": "markdown",
   "id": "e4cdb81916b0a163",
   "metadata": {
    "collapsed": false
   },
   "source": [
    "<div class=\"alert alert-block alert-info\" style=\"background-color: white; border: 2px solid; padding: 10px\">\n",
    "<p><b> &#10068; What in the Log!?</b></p> \n",
    "\n",
    "If you look closely, there are some clear differences in the logging output from these two generation methods. The most glaring are the warnings about the \"interp_function\" and \"a_0\".\n",
    "\n",
    "<u>These should be expected</u> and are only there to alert the user that they didn't specify these gravity theory specific parameters directly. If you want to specify one or both of these parameters, specify it directly in the kwargs of the model generating method.\n",
    "</div>"
   ]
  },
  {
   "cell_type": "markdown",
   "id": "a1fe59a7-177f-4b95-9182-8f5666b3f2fa",
   "metadata": {},
   "source": [
    "You notice that the output from the log has changed somewhat, but things went more or less the same. We can start comparing our two clusters now by generating plots of different fields:"
   ]
  },
  {
   "cell_type": "code",
   "execution_count": null,
   "id": "6b55e07b-d769-4a46-824b-767924069138",
   "metadata": {
    "ExecuteTime": {
     "end_time": "2023-09-20T13:49:45.433936600Z",
     "start_time": "2023-09-20T13:49:45.421898900Z"
    }
   },
   "outputs": [],
   "source": [
    "import matplotlib.pyplot as plt\n",
    "\n",
    "figure,axes = plt.subplots(2,2,figsize=(10,8),gridspec_kw={\"wspace\":0.7,\"hspace\":0.4})\n",
    "\n",
    "fields = [\"temperature\",\"density\",\"dark_matter_density\",\"total_density\"]\n",
    "names = [r\"Temperature\",r\"$\\rho_g$\",r\"$\\rho_{dm}$\",r\"$\\rho_{dyn}$\"]\n",
    "\n",
    "for f,a,n in zip(fields,axes.ravel(),names):\n",
    "    model_mond.plot(f,fig=figure,ax=a,color=\"darkblue\")\n",
    "    model_Newtonian.plot(f,fig=figure,ax=a,color=\"forestgreen\")\n",
    "    a.set_xlabel(\"radius, [kpc]\")\n",
    "    a.set_ylabel(f\"{n}, {model_mond[f].units}\")\n",
    "axes[0,0].set_yscale(\"linear\")\n",
    "\n",
    "\n",
    "plt.show()"
   ]
  },
  {
   "cell_type": "markdown",
   "id": "8548640a-d7c0-4ca4-a058-93236a173e33",
   "metadata": {},
   "source": [
    "As you can see, the $\\rho_{dm}$, $\\rho_{dyn}$ and $\\rho_{gas}$ are the same in both systems (because we initialized the clusters from the same profiles), but the temperatures are dramatically different. This is due to the gravitational differences.\n",
    "\n",
    "<div class=\"alert alert-block alert-info\" style=\"background-color: white; border: 2px solid; padding: 10px\">\n",
    "<p><b> &#10068; How Does it Work?</b></p> \n",
    "\n",
    "Like all of the models in <tt>cluster_generator</tt>, these profiles are determined by enforcing hydrostatic equilibrium in the clusters. In MOND, the gravitational acceleration in the outer regions of the cluster is <u>larger than in the Newtonian equivalent</u> and therefore increases the necessary pressure to maintain HSE and therefore also increases the temperature.\n",
    "</div>\n",
    "<br>\n",
    "<br>\n",
    "Now, we should probably check that both of our models are without any physicality issues:"
   ]
  },
  {
   "cell_type": "code",
   "execution_count": null,
   "id": "ca15705c-5d3c-4a1c-931a-a91a267b96d6",
   "metadata": {
    "ExecuteTime": {
     "start_time": "2023-09-20T13:49:45.425897400Z"
    }
   },
   "outputs": [],
   "source": [
    "q = model_Newtonian.is_physical()\n",
    "print(q[0])\n",
    "q = model_mond.is_physical()\n",
    "print(q[0])\n"
   ]
  },
  {
   "cell_type": "markdown",
   "id": "b600dc7c-a6bb-4009-896c-25e854058116",
   "metadata": {},
   "source": [
    "Awesome! Both of these clusters are physically realizable!\n",
    "\n",
    "<div class=\"alert alert-block alert-warning\" style=\"background-color: white; border: 2px solid; padding: 10px\">\n",
    "<p><b> &#128679; Important Note:</b></p> \n",
    "\n",
    "Unlike in Newtonian gravity, many of the profiles we provide are <u>not specifically designed for MOND.</u> This means that cluster models generated in MOND gravity will often have non-physical behaviors at large radii. \n",
    "\n",
    "<u>Always check your clusters</u>\n",
    "</div>"
   ]
  },
  {
   "cell_type": "markdown",
   "id": "e71b58db-95f8-459a-be74-75d8f37cb86b",
   "metadata": {},
   "source": [
    "## Making Initial Conditions\n",
    "\n",
    "---\n",
    "\n",
    "Now that we've built our cluster, there's very little left to show. You can procede as usual to generate the initial conditions and the rest. Here, we'll create some particle initial conditions so that we can look at the differences in the two clusters. First, we'll have to save our clusters to file."
   ]
  },
  {
   "cell_type": "code",
   "execution_count": null,
   "id": "4b835e60-bb28-40e9-842a-b1464368d383",
   "metadata": {
    "ExecuteTime": {
     "start_time": "2023-09-20T13:49:45.429479Z"
    }
   },
   "outputs": [],
   "source": [
    "model_mond.write_model_to_h5(\"mond_model.h5\",overwrite=True)\n",
    "model_Newtonian.write_model_to_h5(\"newtonian_model.h5\",overwrite=True)"
   ]
  },
  {
   "cell_type": "markdown",
   "id": "22988675-552a-4f09-9529-c645b16e2c28",
   "metadata": {},
   "source": [
    "Now we can start building the initial conditions:\n"
   ]
  },
  {
   "cell_type": "code",
   "execution_count": null,
   "id": "611d7e3a-6da6-4d28-8018-b742d8e13f80",
   "metadata": {
    "ExecuteTime": {
     "start_time": "2023-09-20T13:49:45.433936600Z"
    }
   },
   "outputs": [],
   "source": [
    "mond_ics = cg.ClusterICs(\"mond_ics\",1,[\"mond_model.h5\"],[[0,0,0]],[[0,0,0]],num_particles={\"dm\":1_000_000},r_max=5000)\n",
    "newt_ics = cg.ClusterICs(\"newt_ics\",1,[\"newtonian_model.h5\"],[[0,0,0]],[[0,0,0]],num_particles={\"dm\":1_000_000},r_max=5000)\n",
    "\n",
    "mond_parts = mond_ics.create_dataset([256,256,256],10000,left_edge=[-5000,-5000,-5000])\n",
    "newt_parts = newt_ics.create_dataset([256,256,256],10000,left_edge=[-5000,-5000,-5000])"
   ]
  },
  {
   "cell_type": "code",
   "execution_count": null,
   "id": "015b3ba1-f9ee-4fb1-85fe-d612d1bbb518",
   "metadata": {
    "ExecuteTime": {
     "start_time": "2023-09-20T13:49:45.437950200Z"
    }
   },
   "outputs": [],
   "source": [
    "import yt\n",
    "p = yt.SlicePlot(mond_parts,\"z\",(\"gas\",\"kT\"),width=(5000,\"kpc\"))\n",
    "p.set_log((\"gas\",\"kT\"),False)\n",
    "p.set_cmap((\"gas\",'kT'),\"hot\")\n",
    "p.show()\n",
    "p = yt.SlicePlot(newt_parts,\"z\",(\"gas\",\"kT\"),width=(5000,\"kpc\"))\n",
    "p.set_log((\"gas\",\"kT\"),False)\n",
    "p.set_cmap((\"gas\",'kT'),\"hot\")\n",
    "p.show()"
   ]
  },
  {
   "cell_type": "code",
   "execution_count": null,
   "id": "cafcc09f-6bef-4993-8b42-7dc122d97fbb",
   "metadata": {
    "ExecuteTime": {
     "start_time": "2023-09-20T13:49:45.441951400Z"
    }
   },
   "outputs": [],
   "source": []
  },
  {
   "cell_type": "code",
   "execution_count": null,
   "id": "ad0c95ee-4e54-48d1-8306-ac514c80c8da",
   "metadata": {
    "ExecuteTime": {
     "start_time": "2023-09-20T13:49:45.492096300Z"
    }
   },
   "outputs": [],
   "source": []
  }
 ],
 "metadata": {
  "kernelspec": {
   "display_name": "Python 3 (ipykernel)",
   "language": "python",
   "name": "python3"
  },
  "language_info": {
   "codemirror_mode": {
    "name": "ipython",
    "version": 3
   },
   "file_extension": ".py",
   "mimetype": "text/x-python",
   "name": "python",
   "nbconvert_exporter": "python",
   "pygments_lexer": "ipython3",
   "version": "3.8.10"
  }
 },
 "nbformat": 4,
 "nbformat_minor": 5
}
