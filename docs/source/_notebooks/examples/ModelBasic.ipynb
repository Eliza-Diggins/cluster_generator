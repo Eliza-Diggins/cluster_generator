{
 "cells": [
  {
   "cell_type": "markdown",
   "id": "905581f3-6966-42c6-9aca-778351e09643",
   "metadata": {},
   "source": [
    "# Building A Simple Cluster\n",
    "\n",
    "![Static Badge](https://img.shields.io/badge/Written_By-Eliza_Diggins-black?logo=github) ![Static Badge](https://img.shields.io/badge/Contact%20Me-eliza.diggins%40utah.edu-black?style=flat)\n",
    "---\n",
    "\n",
    "## Contents\n",
    "\n",
    "- [Overview](#Overview)\n",
    "- [Selecting Radial Profiles](#Selecting-Radial-Profiles)\n",
    "- [Creating the Galaxy Cluster](#Creating-The-Galaxy-Cluster)\n",
    "\n",
    "---"
   ]
  },
  {
   "cell_type": "markdown",
   "id": "6c090d82-c257-4e7e-a705-8cd944fddb1e",
   "metadata": {},
   "source": [
    "## Overview\n",
    "\n",
    "The steps to creating a galaxy cluster model are relatively simple:\n",
    "\n",
    "1. Pick out the physical properties we're going to supply so ``cluster_generator`` can make the rest of the cluster.\n",
    "2. Set up those physical profiles.\n",
    "3. Feed them into ``cluster_generator``.\n",
    "\n",
    "From there, we can just sit back and watch ``cluster_generator`` do all the work!\n",
    "\n",
    "## Selecting Radial Profiles\n",
    "\n",
    "The ``cluster_generator.radial_profiles`` module provides an array of radial profiles to choose from, but we're going to choose the simplest possible configuration for this example. We'll use an [NFW Profile](https://en.wikipedia.org/wiki/Navarro%E2%80%93Frenk%E2%80%93White_profile) for both the gas density and the total density and let ``cluster_generator`` take things from there. We'll use the following parameters:\n",
    "\n",
    "- $r_{\\rm{s,total}} = 600\\; \\rm{kpc}$\n",
    "- $r_{\\rm{s,gas}} = 250\\; \\rm{kpc}$\n",
    "\n",
    "- $\\rho_{0,\\rm{total}} = 10^6 \\; \\rm{M_\\odot \\; kpc^{-3}}$\n",
    "- $\\rho_{0,\\rm{gas}} = 10^5 \\; \\rm{M_\\odot \\; kpc^{-3}}$"
   ]
  },
  {
   "cell_type": "code",
   "execution_count": 1,
   "id": "14298f54-7e18-4376-b910-58128300b28a",
   "metadata": {},
   "source": [
    "from cluster_generator.radial_profiles import nfw_density_profile\n",
    "\n",
    "# Setup the total density profile\n",
    "total_density = nfw_density_profile(1e6, 600)\n",
    "gas_density = nfw_density_profile(1e5, 250)"
   ],
   "outputs": []
  },
  {
   "cell_type": "markdown",
   "id": "6a696792-f3f3-4a63-893f-baaa14f27e93",
   "metadata": {},
   "source": [
    "We can quickly generate a plot of the profiles:"
   ]
  },
  {
   "cell_type": "code",
   "execution_count": 2,
   "id": "11a798b1-ccfb-4308-a94a-4b7fe4c939a2",
   "metadata": {},
   "source": [
    "import matplotlib.pyplot as plt\n",
    "\n",
    "fig = plt.figure(figsize=(5, 5))\n",
    "\n",
    "_, ax = total_density.plot(1, 1e4, ls=\"-\", color=\"red\", label=\"total density\", fig=fig)\n",
    "\n",
    "# add the gas density as well\n",
    "gas_density.plot(1, 1e4, ls=\"-\", color=\"blue\", label=\"gas density\", ax=ax, fig=fig)\n",
    "\n",
    "ax.legend()\n",
    "ax.set_ylabel(r\"Density, $\\left[\\mathrm{M_\\odot \\; kpc^{-3}}\\right]$\")\n",
    "\n",
    "plt.show()"
   ],
   "outputs": []
  },
  {
   "cell_type": "markdown",
   "id": "f04060df-8be1-4790-9474-84370180ac83",
   "metadata": {},
   "source": [
    "## Creating the Galaxy Cluster\n",
    "\n",
    "All we have to do now to produce the cluster is feed the radial profiles into the ``model.ClusterModel`` class. The ``ClusterModel`` class has a useful ``.from_dens_and_tden`` method that allows us to simply feed in the radial profiles:"
   ]
  },
  {
   "cell_type": "code",
   "execution_count": 3,
   "id": "a096f73f-4799-4b86-92f1-0e9f56778da7",
   "metadata": {},
   "source": [
    "from cluster_generator.model import ClusterModel\n",
    "\n",
    "# Generate the model\n",
    "model = ClusterModel.from_dens_and_tden(1, 1e4, gas_density, total_density)"
   ],
   "outputs": []
  },
  {
   "cell_type": "markdown",
   "id": "9434a239-6087-4b61-abe6-66a6b94be818",
   "metadata": {},
   "source": [
    "Under the hood, ``cluster_generator`` uses the assumption of spherical symmetry and hydrostatic equilibrium to generate all of the other fields for us. \n",
    "\n",
    "Let's look at what information our model contains:"
   ]
  },
  {
   "cell_type": "code",
   "execution_count": 4,
   "id": "117fc1ec-f187-4ec3-9500-fb661625b82a",
   "metadata": {},
   "source": [
    "# Print out all of the available model fields:\n",
    "\n",
    "for field in model.fields:\n",
    "    print(f\"Model has field {field} with units {model[field].units}\")"
   ],
   "outputs": []
  },
  {
   "cell_type": "code",
   "execution_count": 5,
   "id": "7584f74f-fb6c-4a52-882b-56028801697b",
   "metadata": {},
   "source": [
    "fig = plt.figure(figsize=(5, 5))\n",
    "\n",
    "_, ax = model.plot(\"total_mass\", ls=\"-\", lw=3, color=\"red\", label=\"total mass\", fig=fig)\n",
    "_, _ = model.plot(\"gas_mass\", ls=\"-\", color=\"green\", label=\"gas mass\", fig=fig, ax=ax)\n",
    "_, _ = model.plot(\n",
    "    \"dark_matter_mass\", ls=\"--\", color=\"k\", label=\"dark matter mass\", fig=fig, ax=ax\n",
    ")\n",
    "\n",
    "ax.set_ylabel(r\"Mass, $\\left[\\mathrm{M_\\odot}\\right]$\")\n",
    "ax.legend()\n",
    "\n",
    "\n",
    "plt.show()"
   ],
   "outputs": []
  },
  {
   "cell_type": "markdown",
   "id": "a0365292-97ac-451b-a263-a0dc70841c0a",
   "metadata": {},
   "source": [
    "It's also interesting to look at the temperature:"
   ]
  },
  {
   "cell_type": "code",
   "execution_count": 6,
   "id": "da7f6809-fe0e-46e7-82cd-1e944cc10207",
   "metadata": {},
   "source": [
    "fig = plt.figure(figsize=(5, 5))\n",
    "\n",
    "_, ax = model.plot(\"temperature\", ls=\"-\", lw=3, color=\"k\", label=\"temperature\", fig=fig)\n",
    "\n",
    "ax.legend()\n",
    "ax.set_yscale(\"linear\")\n",
    "\n",
    "plt.show()"
   ],
   "outputs": []
  },
  {
   "cell_type": "markdown",
   "id": "64fb6c85-0af2-4bfb-83a9-12509cfbde06",
   "metadata": {},
   "source": [
    "Now that you've generated a model, you can use it for all sorts of things: loading into simulations, exporting to ``yt``, etc."
   ]
  }
 ],
 "metadata": {
  "kernelspec": {
   "display_name": "Python 3 (ipykernel)",
   "language": "python",
   "name": "python3"
  },
  "language_info": {
   "codemirror_mode": {
    "name": "ipython",
    "version": 3
   },
   "file_extension": ".py",
   "mimetype": "text/x-python",
   "name": "python",
   "nbconvert_exporter": "python",
   "pygments_lexer": "ipython3",
   "version": "3.11.6"
  }
 },
 "nbformat": 4,
 "nbformat_minor": 5
}
